{
 "cells": [
  {
   "cell_type": "code",
   "execution_count": 1,
   "metadata": {},
   "outputs": [],
   "source": [
    "import pandas as pd\n",
    "import matplotlib.pyplot as plt\n",
    "import os\n",
    "import nltk\n",
    "from nltk.tokenize import sent_tokenize, word_tokenize\n",
    "from nltk.corpus import stopwords\n",
    "from nltk.stem.snowball import SnowballStemmer\n",
    "# sklearn for preprocessing and machine learning models\n",
    "from sklearn.model_selection import train_test_split\n",
    "from sklearn.naive_bayes import MultinomialNB\n",
    "from sklearn.ensemble import GradientBoostingClassifier\n",
    "from sklearn.metrics  import accuracy_score\n",
    "from sklearn.utils import shuffle\n",
    "from sklearn.preprocessing import OneHotEncoder\n",
    "from sklearn.feature_extraction.text import TfidfVectorizer\n",
    "# Random seeds for consistent results\n",
    "from tensorflow import set_random_seed\n",
    "seed = 1234"
   ]
  },
  {
   "cell_type": "code",
   "execution_count": 2,
   "metadata": {},
   "outputs": [
    {
     "name": "stdout",
     "output_type": "stream",
     "text": [
      "Dataframe:\n"
     ]
    },
    {
     "data": {
      "text/html": [
       "<div>\n",
       "<style scoped>\n",
       "    .dataframe tbody tr th:only-of-type {\n",
       "        vertical-align: middle;\n",
       "    }\n",
       "\n",
       "    .dataframe tbody tr th {\n",
       "        vertical-align: top;\n",
       "    }\n",
       "\n",
       "    .dataframe thead th {\n",
       "        text-align: right;\n",
       "    }\n",
       "</style>\n",
       "<table border=\"1\" class=\"dataframe\">\n",
       "  <thead>\n",
       "    <tr style=\"text-align: right;\">\n",
       "      <th></th>\n",
       "      <th>tweet_id</th>\n",
       "      <th>airline_sentiment</th>\n",
       "      <th>airline_sentiment_confidence</th>\n",
       "      <th>negativereason</th>\n",
       "      <th>negativereason_confidence</th>\n",
       "      <th>airline</th>\n",
       "      <th>airline_sentiment_gold</th>\n",
       "      <th>name</th>\n",
       "      <th>negativereason_gold</th>\n",
       "      <th>retweet_count</th>\n",
       "      <th>text</th>\n",
       "      <th>tweet_coord</th>\n",
       "      <th>tweet_created</th>\n",
       "      <th>tweet_location</th>\n",
       "      <th>user_timezone</th>\n",
       "    </tr>\n",
       "  </thead>\n",
       "  <tbody>\n",
       "    <tr>\n",
       "      <td>0</td>\n",
       "      <td>570306133677760513</td>\n",
       "      <td>neutral</td>\n",
       "      <td>1.0</td>\n",
       "      <td>NaN</td>\n",
       "      <td>NaN</td>\n",
       "      <td>Virgin America</td>\n",
       "      <td>NaN</td>\n",
       "      <td>cairdin</td>\n",
       "      <td>NaN</td>\n",
       "      <td>0</td>\n",
       "      <td>@VirginAmerica What @dhepburn said.</td>\n",
       "      <td>NaN</td>\n",
       "      <td>2015-02-24 11:35:52 -0800</td>\n",
       "      <td>NaN</td>\n",
       "      <td>Eastern Time (US &amp; Canada)</td>\n",
       "    </tr>\n",
       "  </tbody>\n",
       "</table>\n",
       "</div>"
      ],
      "text/plain": [
       "             tweet_id airline_sentiment  airline_sentiment_confidence  \\\n",
       "0  570306133677760513           neutral                           1.0   \n",
       "\n",
       "  negativereason  negativereason_confidence         airline  \\\n",
       "0            NaN                        NaN  Virgin America   \n",
       "\n",
       "  airline_sentiment_gold     name negativereason_gold  retweet_count  \\\n",
       "0                    NaN  cairdin                 NaN              0   \n",
       "\n",
       "                                  text tweet_coord              tweet_created  \\\n",
       "0  @VirginAmerica What @dhepburn said.         NaN  2015-02-24 11:35:52 -0800   \n",
       "\n",
       "  tweet_location               user_timezone  \n",
       "0            NaN  Eastern Time (US & Canada)  "
      ]
     },
     "execution_count": 2,
     "metadata": {},
     "output_type": "execute_result"
    }
   ],
   "source": [
    "data = pd.read_csv('Tweets.csv') \n",
    "print('Dataframe:')\n",
    "data.head(1)"
   ]
  },
  {
   "cell_type": "code",
   "execution_count": 3,
   "metadata": {},
   "outputs": [
    {
     "name": "stdout",
     "output_type": "stream",
     "text": [
      "Feature selected DataFrame:\n"
     ]
    },
    {
     "data": {
      "text/html": [
       "<div>\n",
       "<style scoped>\n",
       "    .dataframe tbody tr th:only-of-type {\n",
       "        vertical-align: middle;\n",
       "    }\n",
       "\n",
       "    .dataframe tbody tr th {\n",
       "        vertical-align: top;\n",
       "    }\n",
       "\n",
       "    .dataframe thead th {\n",
       "        text-align: right;\n",
       "    }\n",
       "</style>\n",
       "<table border=\"1\" class=\"dataframe\">\n",
       "  <thead>\n",
       "    <tr style=\"text-align: right;\">\n",
       "      <th></th>\n",
       "      <th>tweet_id</th>\n",
       "      <th>text</th>\n",
       "      <th>airline_sentiment</th>\n",
       "    </tr>\n",
       "  </thead>\n",
       "  <tbody>\n",
       "    <tr>\n",
       "      <td>0</td>\n",
       "      <td>570306133677760513</td>\n",
       "      <td>@VirginAmerica What @dhepburn said.</td>\n",
       "      <td>neutral</td>\n",
       "    </tr>\n",
       "    <tr>\n",
       "      <td>1</td>\n",
       "      <td>570301130888122368</td>\n",
       "      <td>@VirginAmerica plus you've added commercials t...</td>\n",
       "      <td>positive</td>\n",
       "    </tr>\n",
       "  </tbody>\n",
       "</table>\n",
       "</div>"
      ],
      "text/plain": [
       "             tweet_id                                               text  \\\n",
       "0  570306133677760513                @VirginAmerica What @dhepburn said.   \n",
       "1  570301130888122368  @VirginAmerica plus you've added commercials t...   \n",
       "\n",
       "  airline_sentiment  \n",
       "0           neutral  \n",
       "1          positive  "
      ]
     },
     "execution_count": 3,
     "metadata": {},
     "output_type": "execute_result"
    }
   ],
   "source": [
    "# Select features\n",
    "df = data[['tweet_id', 'text', 'airline_sentiment']]\n",
    "print('Feature selected DataFrame:')\n",
    "df.head(2)"
   ]
  },
  {
   "cell_type": "code",
   "execution_count": 4,
   "metadata": {},
   "outputs": [
    {
     "data": {
      "image/png": "[encoded data removed]",
      "text/plain": [
       "<Figure size 1080x720 with 1 Axes>"
      ]
     },
     "metadata": {
      "needs_background": "light"
     },
     "output_type": "display_data"
    }
   ],
   "source": [
    "# Plot sentiment distribution\n",
    "df['airline_sentiment'].value_counts().plot(kind = 'barh',\n",
    "                                            figsize = (15,10));\n",
    "plt.title('Distribution of airline sentiment in Kaggle dataset', \n",
    "          fontsize = 26, weight = 'bold')\n",
    "plt.xlabel('Frequency', fontsize = 22)\n",
    "plt.xticks(fontsize = 20)\n",
    "plt.yticks(fontsize = 20);"
   ]
  },
  {
   "cell_type": "markdown",
   "metadata": {},
   "source": [
    "## Preprocessing"
   ]
  },
  {
   "cell_type": "markdown",
   "metadata": {},
   "source": [
    "We created a preprocessor class to perform all steps that need to be performed before the text data can be vectorized. These preprocessing steps include:\n",
    "\n",
    "Tokenization, Removing stop words, Stemming, Transform the tokens back to one string"
   ]
  },
  {
   "cell_type": "code",
   "execution_count": 5,
   "metadata": {},
   "outputs": [],
   "source": [
    "class PreProcessor:\n",
    "    '''\n",
    "    Easily performs all the standard preprocessing steps\n",
    "    like removing stopwords, stemming, etc.\n",
    "    Only input that you need to provide is the dataframe and column name for the tweets\n",
    "    '''\n",
    "    def __init__(self, df, column_name):\n",
    "        self.data = df\n",
    "        self.conversations = list(self.data[column_name])\n",
    "        self.stopwords = set(stopwords.words('english'))\n",
    "        self.stemmer = SnowballStemmer(\"english\")\n",
    "        self.preprocessed = []\n",
    "        \n",
    "    def tokenize(self, sentence):\n",
    "        '''\n",
    "        Splits up words and makes a list of all words in the tweet\n",
    "        '''\n",
    "        tokenized_sentence = word_tokenize(sentence)\n",
    "        return tokenized_sentence\n",
    "            \n",
    "    def remove_stopwords(self, sentence):\n",
    "        '''Removes stopwords like 'a', 'the', 'and', etc.'''\n",
    "        filtered_sentence = []\n",
    "        for w in sentence:\n",
    "            if w not in self.stopwords and len(w) > 1 and w[:2] != '//' and w != 'https': \n",
    "                filtered_sentence.append(w)\n",
    "        return filtered_sentence\n",
    "    \n",
    "    def stem(self, sentence):\n",
    "        '''\n",
    "        Stems certain words to their root form.\n",
    "        For example, words like 'computer', 'computation'\n",
    "        all get truncated to 'comput'\n",
    "        '''\n",
    "        return [self.stemmer.stem(word) for word in sentence]\n",
    "    \n",
    "    def join_to_string(self, sentence):\n",
    "        '''\n",
    "        Joins the tokenized words to one string.\n",
    "        '''\n",
    "        return ' '.join(sentence)\n",
    "    \n",
    "    def full_preprocess(self, n_rows=None):\n",
    "        '''\n",
    "        Preprocess a selected number of rows and\n",
    "        connects them back to strings\n",
    "        '''\n",
    "        # If nothing is given do it for the whole dataset\n",
    "        if n_rows == None:\n",
    "            n_rows = len(self.data)\n",
    "            \n",
    "        # Perform preprocessing\n",
    "        for i in range(n_rows):\n",
    "            tweet = self.conversations[i]\n",
    "            tokenized = self.tokenize(tweet)\n",
    "            cleaned = self.remove_stopwords(tokenized)\n",
    "            stemmed = self.stem(cleaned)\n",
    "            joined = self.join_to_string(stemmed)\n",
    "            self.preprocessed.append(joined)\n",
    "        return self.preprocessed"
   ]
  },
  {
   "cell_type": "code",
   "execution_count": 6,
   "metadata": {},
   "outputs": [
    {
     "name": "stderr",
     "output_type": "stream",
     "text": [
      "/anaconda3/lib/python3.6/site-packages/ipykernel_launcher.py:3: SettingWithCopyWarning: \n",
      "A value is trying to be set on a copy of a slice from a DataFrame.\n",
      "Try using .loc[row_indexer,col_indexer] = value instead\n",
      "\n",
      "See the caveats in the documentation: http://pandas.pydata.org/pandas-docs/stable/user_guide/indexing.html#returning-a-view-versus-a-copy\n",
      "  This is separate from the ipykernel package so we can avoid doing imports until\n"
     ]
    }
   ],
   "source": [
    "# Preprocess text and put it in a new column\n",
    "preprocessor = PreProcessor(df, 'text')\n",
    "df['cleaned_text'] = preprocessor.full_preprocess()"
   ]
  },
  {
   "cell_type": "code",
   "execution_count": 7,
   "metadata": {},
   "outputs": [],
   "source": [
    "# Shuffling so we can get random tweets for the test set\n",
    "df = shuffle(df, random_state=seed)\n",
    "# Keep 1000 samples of the data as test set\n",
    "test_set = df[:1000]"
   ]
  },
  {
   "cell_type": "code",
   "execution_count": 8,
   "metadata": {},
   "outputs": [],
   "source": [
    "# Get training and validation data\n",
    "X_train, X_val, y_train, y_val = train_test_split(df['cleaned_text'][1000:], \n",
    "                                                  df['airline_sentiment'][1000:], \n",
    "                                                  test_size=0.2, \n",
    "                                                  random_state=seed)\n",
    "\n",
    "# Get sentiment labels for test set\n",
    "y_test = test_set['airline_sentiment']"
   ]
  },
  {
   "cell_type": "markdown",
   "metadata": {},
   "source": [
    "## Data vectorization"
   ]
  },
  {
   "cell_type": "code",
   "execution_count": 9,
   "metadata": {},
   "outputs": [],
   "source": [
    "# Create matrix based on word frequency in tweets\n",
    "vectorizer = TfidfVectorizer()\n",
    "X_train = vectorizer.fit_transform(X_train)\n",
    "X_val = vectorizer.transform(X_val)\n",
    "X_test = vectorizer.transform(test_set['cleaned_text'])"
   ]
  },
  {
   "cell_type": "code",
   "execution_count": 10,
   "metadata": {},
   "outputs": [
    {
     "name": "stdout",
     "output_type": "stream",
     "text": [
      "Training size: 10912 tweets\n",
      "Validation size: 2728 tweets\n",
      "Test size: 1000 tweets\n",
      "Amount of words (columns): 9672 words\n"
     ]
    }
   ],
   "source": [
    "# Print the size of our data\n",
    "print(f'Training size: {X_train.shape[0]} tweets\\n\\\n",
    "Validation size: {X_val.shape[0]} tweets\\n\\\n",
    "Test size: {X_test.shape[0]} tweets\\n\\\n",
    "Amount of words (columns): {X_train.shape[1]} words')"
   ]
  },
  {
   "cell_type": "markdown",
   "metadata": {},
   "source": [
    "## ML Models"
   ]
  },
  {
   "cell_type": "markdown",
   "metadata": {},
   "source": [
    "### Neural Network"
   ]
  },
  {
   "cell_type": "code",
   "execution_count": 11,
   "metadata": {},
   "outputs": [
    {
     "name": "stderr",
     "output_type": "stream",
     "text": [
      "Using TensorFlow backend.\n"
     ]
    }
   ],
   "source": [
    "# Keras for neural networks\n",
    "import keras\n",
    "from keras.models import Sequential\n",
    "from keras.layers import Dense, Dropout, BatchNormalization\n",
    "from keras.layers import Flatten\n",
    "from keras.layers.embeddings import Embedding\n",
    "from keras.preprocessing import sequence\n",
    "from keras.utils import to_categorical\n",
    "from keras.callbacks import EarlyStopping"
   ]
  },
  {
   "cell_type": "code",
   "execution_count": 12,
   "metadata": {},
   "outputs": [],
   "source": [
    "# Generator so we can easily feed batches of data to the neural network\n",
    "def batch_generator(X, y, batch_size, shuffle):\n",
    "    number_of_batches = X.shape[0]/batch_size\n",
    "    counter = 0\n",
    "    sample_index = np.arange(X.shape[0])\n",
    "    if shuffle:\n",
    "        np.random.shuffle(sample_index)\n",
    "    while True:\n",
    "        batch_index = sample_index[batch_size*counter:batch_size*(counter+1)]\n",
    "        X_batch = X[batch_index,:].toarray()\n",
    "        y_batch = y[batch_index]\n",
    "        counter += 1\n",
    "        yield X_batch, y_batch\n",
    "        if (counter == number_of_batches):\n",
    "            if shuffle:\n",
    "                np.random.shuffle(sample_index)\n",
    "            counter = 0"
   ]
  },
  {
   "cell_type": "code",
   "execution_count": 13,
   "metadata": {},
   "outputs": [],
   "source": [
    "import numpy as np\n",
    "# Onehot encoding of target variable\n",
    "# Negative = [1,0,0], Neutral = [0,1,0], Positive = [0,0,1]\n",
    "\n",
    "# Initialize sklearn's one-hot encoder class\n",
    "onehot_encoder = OneHotEncoder(sparse=False)\n",
    "\n",
    "# One hot encoding for training set\n",
    "integer_encoded_train = np.array(y_train).reshape(len(y_train), 1)\n",
    "onehot_encoded_train = onehot_encoder.fit_transform(integer_encoded_train)\n",
    "\n",
    "# One hot encoding for validation set\n",
    "integer_encoded_val = np.array(y_val).reshape(len(y_val), 1)\n",
    "onehot_encoded_val = onehot_encoder.fit_transform(integer_encoded_val)"
   ]
  },
  {
   "cell_type": "code",
   "execution_count": 50,
   "metadata": {},
   "outputs": [
    {
     "name": "stdout",
     "output_type": "stream",
     "text": [
      "Epoch 1/20\n",
      "341/341 [==============================] - 4s 11ms/step - loss: 0.5774 - accuracy: 0.6959 - val_loss: 0.5189 - val_accuracy: 0.8051\n",
      "Epoch 2/20\n",
      "341/341 [==============================] - 3s 8ms/step - loss: 0.5014 - accuracy: 0.7760 - val_loss: 0.4723 - val_accuracy: 0.7857\n",
      "Epoch 3/20\n",
      "341/341 [==============================] - 3s 8ms/step - loss: 0.4629 - accuracy: 0.7905 - val_loss: 0.4417 - val_accuracy: 0.7995\n",
      "Epoch 4/20\n",
      "341/341 [==============================] - 3s 8ms/step - loss: 0.4309 - accuracy: 0.8110 - val_loss: 0.4155 - val_accuracy: 0.8137\n",
      "Epoch 5/20\n",
      "341/341 [==============================] - 3s 8ms/step - loss: 0.3996 - accuracy: 0.8249 - val_loss: 0.3940 - val_accuracy: 0.8247\n",
      "Epoch 6/20\n",
      "341/341 [==============================] - 3s 9ms/step - loss: 0.3736 - accuracy: 0.8380 - val_loss: 0.3769 - val_accuracy: 0.8324\n",
      "Epoch 7/20\n",
      "341/341 [==============================] - 3s 8ms/step - loss: 0.3532 - accuracy: 0.8478 - val_loss: 0.3634 - val_accuracy: 0.8388\n",
      "Epoch 8/20\n",
      "341/341 [==============================] - 3s 8ms/step - loss: 0.3337 - accuracy: 0.8582 - val_loss: 0.3527 - val_accuracy: 0.8434\n",
      "Epoch 9/20\n",
      "341/341 [==============================] - 3s 8ms/step - loss: 0.3165 - accuracy: 0.8661 - val_loss: 0.3440 - val_accuracy: 0.8479\n",
      "Epoch 10/20\n",
      "341/341 [==============================] - 3s 8ms/step - loss: 0.3017 - accuracy: 0.8763 - val_loss: 0.3369 - val_accuracy: 0.8508\n",
      "Epoch 11/20\n",
      "341/341 [==============================] - 3s 8ms/step - loss: 0.2901 - accuracy: 0.8833 - val_loss: 0.3312 - val_accuracy: 0.8557\n",
      "Epoch 12/20\n",
      "341/341 [==============================] - 3s 8ms/step - loss: 0.2771 - accuracy: 0.8910 - val_loss: 0.3264 - val_accuracy: 0.8586\n",
      "Epoch 13/20\n",
      "341/341 [==============================] - 3s 8ms/step - loss: 0.2663 - accuracy: 0.8978 - val_loss: 0.3228 - val_accuracy: 0.8600\n",
      "Epoch 14/20\n",
      "341/341 [==============================] - 3s 8ms/step - loss: 0.2556 - accuracy: 0.9046 - val_loss: 0.3198 - val_accuracy: 0.8607\n",
      "Epoch 15/20\n",
      "341/341 [==============================] - 3s 8ms/step - loss: 0.2453 - accuracy: 0.9114 - val_loss: 0.3176 - val_accuracy: 0.8622\n",
      "Epoch 16/20\n",
      "341/341 [==============================] - 3s 8ms/step - loss: 0.2375 - accuracy: 0.9136 - val_loss: 0.3164 - val_accuracy: 0.8636\n",
      "Epoch 17/20\n",
      "341/341 [==============================] - 3s 9ms/step - loss: 0.2311 - accuracy: 0.9183 - val_loss: 0.3154 - val_accuracy: 0.8638\n",
      "Epoch 18/20\n",
      "341/341 [==============================] - 3s 8ms/step - loss: 0.2219 - accuracy: 0.9216 - val_loss: 0.3145 - val_accuracy: 0.8653\n",
      "Epoch 19/20\n",
      "341/341 [==============================] - 3s 8ms/step - loss: 0.2156 - accuracy: 0.9245 - val_loss: 0.3147 - val_accuracy: 0.8658\n",
      "Epoch 20/20\n",
      "341/341 [==============================] - 3s 8ms/step - loss: 0.2079 - accuracy: 0.9300 - val_loss: 0.3151 - val_accuracy: 0.8652\n"
     ]
    }
   ],
   "source": [
    "# Neural network architecture\n",
    "initializer = keras.initializers.he_normal(seed=seed)\n",
    "activation = keras.activations.elu\n",
    "optimizer = keras.optimizers.Adam(lr=0.0002, beta_1=0.9, beta_2=0.999, epsilon=1e-8)\n",
    "es = EarlyStopping(monitor='val_acc', mode='max', verbose=1, patience=4)\n",
    "\n",
    "# Build model architecture\n",
    "model = Sequential()\n",
    "model.add(Dense(20, activation=activation, kernel_initializer=initializer, input_dim=X_train.shape[1]))\n",
    "model.add(Dropout(0.5))\n",
    "model.add(Dense(3, activation='softmax', kernel_initializer=initializer))\n",
    "model.compile(optimizer=optimizer,\n",
    "              loss='binary_crossentropy',\n",
    "              metrics=['accuracy'])\n",
    "\n",
    "# Hyperparameters\n",
    "epochs = 20\n",
    "batch_size = 32\n",
    "\n",
    "# Fit the model using the batch_generator\n",
    "hist = model.fit_generator(generator=batch_generator(X_train, onehot_encoded_train, batch_size=batch_size, shuffle=True),\n",
    "                           epochs=epochs, validation_data=(X_val, onehot_encoded_val),\n",
    "                           steps_per_epoch=X_train.shape[0]/batch_size, callbacks=[es])"
   ]
  },
  {
   "cell_type": "code",
   "execution_count": 51,
   "metadata": {},
   "outputs": [],
   "source": [
    "# Transform categories into numbers\n",
    "# negative = 0, neutral = 1 and positive = 2\n",
    "target_train = y_train.astype('category').cat.codes\n",
    "target_val = y_val.astype('category').cat.codes"
   ]
  },
  {
   "cell_type": "code",
   "execution_count": 52,
   "metadata": {},
   "outputs": [
    {
     "name": "stdout",
     "output_type": "stream",
     "text": [
      "Accuracy on training set (NN): 90.7625%\n",
      "Accuracy on validation set (NN): 78.9589%\n"
     ]
    }
   ],
   "source": [
    "# Check results of neural network model\n",
    "train_pred = [np.argmax(pred) for pred in model.predict(X_train)]\n",
    "val_pred = [np.argmax(pred) for pred in model.predict(X_val)]\n",
    "print(f'Accuracy on training set (NN): {round(accuracy_score(target_train, train_pred)*100, 4)}%')\n",
    "print(f'Accuracy on validation set (NN): {round(accuracy_score(target_val, val_pred)*100, 4)}%')"
   ]
  },
  {
   "cell_type": "code",
   "execution_count": 53,
   "metadata": {},
   "outputs": [
    {
     "name": "stdout",
     "output_type": "stream",
     "text": [
      "Accuracy for Neural Network: 79.8%\n"
     ]
    }
   ],
   "source": [
    "# Neural Network predictions\n",
    "nn_test_pred = [np.argmax(pred) for pred in model.predict(X_test)]\n",
    "target_test = y_test.astype('category').cat.codes\n",
    "print(f'Accuracy for Neural Network: {round(accuracy_score(target_test, nn_test_pred)*100, 4)}%')"
   ]
  },
  {
   "cell_type": "markdown",
   "metadata": {},
   "source": [
    "Finally, our model has an accuracy rate of 79.8%, which is close to 80%."
   ]
  }
 ],
 "metadata": {
  "kernelspec": {
   "display_name": "Python 3",
   "language": "python",
   "name": "python3"
  },
  "language_info": {
   "codemirror_mode": {
    "name": "ipython",
    "version": 3
   },
   "file_extension": ".py",
   "mimetype": "text/x-python",
   "name": "python",
   "nbconvert_exporter": "python",
   "pygments_lexer": "ipython3",
   "version": "3.6.9"
  }
 },
 "nbformat": 4,
 "nbformat_minor": 2
}
